{
 "cells": [
  {
   "cell_type": "markdown",
   "metadata": {},
   "source": [
    "### Impoting Modules\n",
    "Let us begin by importing the modules\n"
   ]
  },
  {
   "cell_type": "code",
   "execution_count": 1,
   "metadata": {},
   "outputs": [],
   "source": [
    "import numpy as np\n",
    "import pandas as pd\n",
    "from matplotlib import pyplot as plt"
   ]
  },
  {
   "cell_type": "markdown",
   "metadata": {},
   "source": [
    "### Loading the data\n",
    "Load the prices data from Qualcomm_Stocks.txt file."
   ]
  },
  {
   "cell_type": "code",
   "execution_count": 2,
   "metadata": {},
   "outputs": [],
   "source": [
    "file_name = r'C:\\Users\\ritthaku\\Desktop\\AIML\\Qualcomm_Stocks.txt'"
   ]
  },
  {
   "cell_type": "code",
   "execution_count": 3,
   "metadata": {
    "scrolled": false
   },
   "outputs": [],
   "source": [
    "Stock_qualcomm = pd.read_csv(r'C:\\Users\\ritthaku\\Desktop\\AIML\\Qualcomm_Stocks.txt')"
   ]
  },
  {
   "cell_type": "code",
   "execution_count": 4,
   "metadata": {
    "scrolled": true
   },
   "outputs": [
    {
     "data": {
      "text/html": [
       "<div>\n",
       "<style scoped>\n",
       "    .dataframe tbody tr th:only-of-type {\n",
       "        vertical-align: middle;\n",
       "    }\n",
       "\n",
       "    .dataframe tbody tr th {\n",
       "        vertical-align: top;\n",
       "    }\n",
       "\n",
       "    .dataframe thead th {\n",
       "        text-align: right;\n",
       "    }\n",
       "</style>\n",
       "<table border=\"1\" class=\"dataframe\">\n",
       "  <thead>\n",
       "    <tr style=\"text-align: right;\">\n",
       "      <th></th>\n",
       "      <th>Date</th>\n",
       "      <th>Open</th>\n",
       "      <th>High</th>\n",
       "      <th>Low</th>\n",
       "      <th>Close</th>\n",
       "      <th>Adj Close</th>\n",
       "      <th>Volume</th>\n",
       "    </tr>\n",
       "  </thead>\n",
       "  <tbody>\n",
       "    <tr>\n",
       "      <th>0</th>\n",
       "      <td>2002-01-02</td>\n",
       "      <td>25.485001</td>\n",
       "      <td>26.025000</td>\n",
       "      <td>24.885000</td>\n",
       "      <td>26.025000</td>\n",
       "      <td>17.366922</td>\n",
       "      <td>18612800</td>\n",
       "    </tr>\n",
       "    <tr>\n",
       "      <th>1</th>\n",
       "      <td>2002-01-03</td>\n",
       "      <td>26.030001</td>\n",
       "      <td>26.670000</td>\n",
       "      <td>25.825001</td>\n",
       "      <td>25.990000</td>\n",
       "      <td>17.343565</td>\n",
       "      <td>22240000</td>\n",
       "    </tr>\n",
       "    <tr>\n",
       "      <th>2</th>\n",
       "      <td>2002-01-04</td>\n",
       "      <td>26.235001</td>\n",
       "      <td>26.290001</td>\n",
       "      <td>24.895000</td>\n",
       "      <td>25.205000</td>\n",
       "      <td>16.819725</td>\n",
       "      <td>38927400</td>\n",
       "    </tr>\n",
       "    <tr>\n",
       "      <th>3</th>\n",
       "      <td>2002-01-07</td>\n",
       "      <td>25.200001</td>\n",
       "      <td>25.209999</td>\n",
       "      <td>23.549999</td>\n",
       "      <td>23.600000</td>\n",
       "      <td>15.748687</td>\n",
       "      <td>40064600</td>\n",
       "    </tr>\n",
       "    <tr>\n",
       "      <th>4</th>\n",
       "      <td>2002-01-08</td>\n",
       "      <td>23.424999</td>\n",
       "      <td>24.290001</td>\n",
       "      <td>23.230000</td>\n",
       "      <td>24.094999</td>\n",
       "      <td>16.079002</td>\n",
       "      <td>56385400</td>\n",
       "    </tr>\n",
       "  </tbody>\n",
       "</table>\n",
       "</div>"
      ],
      "text/plain": [
       "         Date       Open       High        Low      Close  Adj Close    Volume\n",
       "0  2002-01-02  25.485001  26.025000  24.885000  26.025000  17.366922  18612800\n",
       "1  2002-01-03  26.030001  26.670000  25.825001  25.990000  17.343565  22240000\n",
       "2  2002-01-04  26.235001  26.290001  24.895000  25.205000  16.819725  38927400\n",
       "3  2002-01-07  25.200001  25.209999  23.549999  23.600000  15.748687  40064600\n",
       "4  2002-01-08  23.424999  24.290001  23.230000  24.094999  16.079002  56385400"
      ]
     },
     "execution_count": 4,
     "metadata": {},
     "output_type": "execute_result"
    }
   ],
   "source": [
    "Stock_qualcomm.head()"
   ]
  },
  {
   "cell_type": "markdown",
   "metadata": {},
   "source": [
    "### Explore the data\n",
    "\n",
    "Let us explore the data.\n",
    "\n",
    "Let us use describe() to view statistical-details about the data.\n",
    "\n",
    "Also, let us see if there are any null values in each column of the data using isnull().sum().\n",
    "\n",
    "Note:\n",
    "\n",
    "describe() is a method used on a data frame to view the statistical description of the numerical columns in the data frame.\n",
    "\n",
    "isnull() method returns True in the places where there are null values(or missing values) and False if the values are not nulls.\n",
    "\n",
    "isnull().sum() displays column-wise information about the number of nulls found in each column of the data frame."
   ]
  },
  {
   "cell_type": "code",
   "execution_count": 5,
   "metadata": {},
   "outputs": [
    {
     "data": {
      "text/plain": [
       "(5234, 7)"
      ]
     },
     "execution_count": 5,
     "metadata": {},
     "output_type": "execute_result"
    }
   ],
   "source": [
    "Stock_qualcomm.shape"
   ]
  },
  {
   "cell_type": "code",
   "execution_count": 6,
   "metadata": {},
   "outputs": [
    {
     "data": {
      "text/html": [
       "<div>\n",
       "<style scoped>\n",
       "    .dataframe tbody tr th:only-of-type {\n",
       "        vertical-align: middle;\n",
       "    }\n",
       "\n",
       "    .dataframe tbody tr th {\n",
       "        vertical-align: top;\n",
       "    }\n",
       "\n",
       "    .dataframe thead th {\n",
       "        text-align: right;\n",
       "    }\n",
       "</style>\n",
       "<table border=\"1\" class=\"dataframe\">\n",
       "  <thead>\n",
       "    <tr style=\"text-align: right;\">\n",
       "      <th></th>\n",
       "      <th>Open</th>\n",
       "      <th>High</th>\n",
       "      <th>Low</th>\n",
       "      <th>Close</th>\n",
       "      <th>Adj Close</th>\n",
       "      <th>Volume</th>\n",
       "    </tr>\n",
       "  </thead>\n",
       "  <tbody>\n",
       "    <tr>\n",
       "      <th>count</th>\n",
       "      <td>5234.000000</td>\n",
       "      <td>5234.000000</td>\n",
       "      <td>5234.000000</td>\n",
       "      <td>5234.000000</td>\n",
       "      <td>5234.000000</td>\n",
       "      <td>5.234000e+03</td>\n",
       "    </tr>\n",
       "    <tr>\n",
       "      <th>mean</th>\n",
       "      <td>60.192165</td>\n",
       "      <td>60.951975</td>\n",
       "      <td>59.433002</td>\n",
       "      <td>60.200651</td>\n",
       "      <td>50.010987</td>\n",
       "      <td>1.546658e+07</td>\n",
       "    </tr>\n",
       "    <tr>\n",
       "      <th>std</th>\n",
       "      <td>33.457699</td>\n",
       "      <td>33.924632</td>\n",
       "      <td>32.958895</td>\n",
       "      <td>33.434639</td>\n",
       "      <td>35.349908</td>\n",
       "      <td>9.819482e+06</td>\n",
       "    </tr>\n",
       "    <tr>\n",
       "      <th>min</th>\n",
       "      <td>12.075000</td>\n",
       "      <td>12.765000</td>\n",
       "      <td>11.605000</td>\n",
       "      <td>11.875000</td>\n",
       "      <td>7.924388</td>\n",
       "      <td>2.120200e+06</td>\n",
       "    </tr>\n",
       "    <tr>\n",
       "      <th>25%</th>\n",
       "      <td>39.820000</td>\n",
       "      <td>40.304999</td>\n",
       "      <td>39.179998</td>\n",
       "      <td>39.825000</td>\n",
       "      <td>27.864374</td>\n",
       "      <td>9.146925e+06</td>\n",
       "    </tr>\n",
       "    <tr>\n",
       "      <th>50%</th>\n",
       "      <td>53.445000</td>\n",
       "      <td>53.960001</td>\n",
       "      <td>52.865000</td>\n",
       "      <td>53.419998</td>\n",
       "      <td>42.253382</td>\n",
       "      <td>1.301650e+07</td>\n",
       "    </tr>\n",
       "    <tr>\n",
       "      <th>75%</th>\n",
       "      <td>68.199997</td>\n",
       "      <td>68.830002</td>\n",
       "      <td>67.487499</td>\n",
       "      <td>68.269997</td>\n",
       "      <td>56.399760</td>\n",
       "      <td>1.882850e+07</td>\n",
       "    </tr>\n",
       "    <tr>\n",
       "      <th>max</th>\n",
       "      <td>190.300003</td>\n",
       "      <td>193.580002</td>\n",
       "      <td>185.190002</td>\n",
       "      <td>189.279999</td>\n",
       "      <td>186.460327</td>\n",
       "      <td>1.560193e+08</td>\n",
       "    </tr>\n",
       "  </tbody>\n",
       "</table>\n",
       "</div>"
      ],
      "text/plain": [
       "              Open         High          Low        Close    Adj Close  \\\n",
       "count  5234.000000  5234.000000  5234.000000  5234.000000  5234.000000   \n",
       "mean     60.192165    60.951975    59.433002    60.200651    50.010987   \n",
       "std      33.457699    33.924632    32.958895    33.434639    35.349908   \n",
       "min      12.075000    12.765000    11.605000    11.875000     7.924388   \n",
       "25%      39.820000    40.304999    39.179998    39.825000    27.864374   \n",
       "50%      53.445000    53.960001    52.865000    53.419998    42.253382   \n",
       "75%      68.199997    68.830002    67.487499    68.269997    56.399760   \n",
       "max     190.300003   193.580002   185.190002   189.279999   186.460327   \n",
       "\n",
       "             Volume  \n",
       "count  5.234000e+03  \n",
       "mean   1.546658e+07  \n",
       "std    9.819482e+06  \n",
       "min    2.120200e+06  \n",
       "25%    9.146925e+06  \n",
       "50%    1.301650e+07  \n",
       "75%    1.882850e+07  \n",
       "max    1.560193e+08  "
      ]
     },
     "execution_count": 6,
     "metadata": {},
     "output_type": "execute_result"
    }
   ],
   "source": [
    "Stock_qualcomm.describe()"
   ]
  },
  {
   "cell_type": "code",
   "execution_count": 7,
   "metadata": {},
   "outputs": [
    {
     "data": {
      "text/plain": [
       "Date         0\n",
       "Open         0\n",
       "High         0\n",
       "Low          0\n",
       "Close        0\n",
       "Adj Close    0\n",
       "Volume       0\n",
       "dtype: int64"
      ]
     },
     "execution_count": 7,
     "metadata": {},
     "output_type": "execute_result"
    }
   ],
   "source": [
    "Stock_qualcomm.isnull().sum()"
   ]
  },
  {
   "cell_type": "markdown",
   "metadata": {},
   "source": [
    "### Setting the Index for the Data Frame\n",
    "\n",
    "Since we are dealing with time-series data, it makes sense to see the date column as the index of our data frame.\n",
    "\n",
    "let us first convert the \"date\" column into DateTime type using the pd.to_datetime() method of pandas.\n",
    "\n",
    "Note:\n",
    "\n",
    "pd.to_datetime() is used to covert the type of column to datetime type.\n",
    "\n",
    "set_index() method is used to set the data frame index using existing columns."
   ]
  },
  {
   "cell_type": "code",
   "execution_count": 8,
   "metadata": {},
   "outputs": [],
   "source": [
    "Stock_qualcomm['Date']= pd.to_datetime(Stock_qualcomm['Date'])"
   ]
  },
  {
   "cell_type": "code",
   "execution_count": 9,
   "metadata": {},
   "outputs": [
    {
     "name": "stdout",
     "output_type": "stream",
     "text": [
      "datetime64[ns]\n"
     ]
    }
   ],
   "source": [
    "print(Stock_qualcomm.Date.dtype)"
   ]
  },
  {
   "cell_type": "code",
   "execution_count": 10,
   "metadata": {},
   "outputs": [],
   "source": [
    "Stock_qualcomm=Stock_qualcomm.set_index(\"Date\")"
   ]
  },
  {
   "cell_type": "code",
   "execution_count": 11,
   "metadata": {},
   "outputs": [
    {
     "data": {
      "text/html": [
       "<div>\n",
       "<style scoped>\n",
       "    .dataframe tbody tr th:only-of-type {\n",
       "        vertical-align: middle;\n",
       "    }\n",
       "\n",
       "    .dataframe tbody tr th {\n",
       "        vertical-align: top;\n",
       "    }\n",
       "\n",
       "    .dataframe thead th {\n",
       "        text-align: right;\n",
       "    }\n",
       "</style>\n",
       "<table border=\"1\" class=\"dataframe\">\n",
       "  <thead>\n",
       "    <tr style=\"text-align: right;\">\n",
       "      <th></th>\n",
       "      <th>Open</th>\n",
       "      <th>High</th>\n",
       "      <th>Low</th>\n",
       "      <th>Close</th>\n",
       "      <th>Adj Close</th>\n",
       "      <th>Volume</th>\n",
       "    </tr>\n",
       "    <tr>\n",
       "      <th>Date</th>\n",
       "      <th></th>\n",
       "      <th></th>\n",
       "      <th></th>\n",
       "      <th></th>\n",
       "      <th></th>\n",
       "      <th></th>\n",
       "    </tr>\n",
       "  </thead>\n",
       "  <tbody>\n",
       "    <tr>\n",
       "      <th>2002-01-02</th>\n",
       "      <td>25.485001</td>\n",
       "      <td>26.025000</td>\n",
       "      <td>24.885000</td>\n",
       "      <td>26.025000</td>\n",
       "      <td>17.366922</td>\n",
       "      <td>18612800</td>\n",
       "    </tr>\n",
       "    <tr>\n",
       "      <th>2002-01-03</th>\n",
       "      <td>26.030001</td>\n",
       "      <td>26.670000</td>\n",
       "      <td>25.825001</td>\n",
       "      <td>25.990000</td>\n",
       "      <td>17.343565</td>\n",
       "      <td>22240000</td>\n",
       "    </tr>\n",
       "    <tr>\n",
       "      <th>2002-01-04</th>\n",
       "      <td>26.235001</td>\n",
       "      <td>26.290001</td>\n",
       "      <td>24.895000</td>\n",
       "      <td>25.205000</td>\n",
       "      <td>16.819725</td>\n",
       "      <td>38927400</td>\n",
       "    </tr>\n",
       "    <tr>\n",
       "      <th>2002-01-07</th>\n",
       "      <td>25.200001</td>\n",
       "      <td>25.209999</td>\n",
       "      <td>23.549999</td>\n",
       "      <td>23.600000</td>\n",
       "      <td>15.748687</td>\n",
       "      <td>40064600</td>\n",
       "    </tr>\n",
       "    <tr>\n",
       "      <th>2002-01-08</th>\n",
       "      <td>23.424999</td>\n",
       "      <td>24.290001</td>\n",
       "      <td>23.230000</td>\n",
       "      <td>24.094999</td>\n",
       "      <td>16.079002</td>\n",
       "      <td>56385400</td>\n",
       "    </tr>\n",
       "  </tbody>\n",
       "</table>\n",
       "</div>"
      ],
      "text/plain": [
       "                 Open       High        Low      Close  Adj Close    Volume\n",
       "Date                                                                       \n",
       "2002-01-02  25.485001  26.025000  24.885000  26.025000  17.366922  18612800\n",
       "2002-01-03  26.030001  26.670000  25.825001  25.990000  17.343565  22240000\n",
       "2002-01-04  26.235001  26.290001  24.895000  25.205000  16.819725  38927400\n",
       "2002-01-07  25.200001  25.209999  23.549999  23.600000  15.748687  40064600\n",
       "2002-01-08  23.424999  24.290001  23.230000  24.094999  16.079002  56385400"
      ]
     },
     "execution_count": 11,
     "metadata": {},
     "output_type": "execute_result"
    }
   ],
   "source": [
    "Stock_qualcomm.head()"
   ]
  },
  {
   "cell_type": "code",
   "execution_count": 12,
   "metadata": {},
   "outputs": [
    {
     "name": "stdout",
     "output_type": "stream",
     "text": [
      "(5234, 6)\n"
     ]
    }
   ],
   "source": [
    "print(Stock_qualcomm.shape)"
   ]
  },
  {
   "cell_type": "code",
   "execution_count": 13,
   "metadata": {},
   "outputs": [],
   "source": [
    "yahoo_data = Stock_qualcomm.asfreq('b')"
   ]
  },
  {
   "cell_type": "code",
   "execution_count": 14,
   "metadata": {},
   "outputs": [
    {
     "name": "stdout",
     "output_type": "stream",
     "text": [
      "(5234, 6)\n"
     ]
    }
   ],
   "source": [
    "print(Stock_qualcomm.shape)"
   ]
  },
  {
   "cell_type": "code",
   "execution_count": 15,
   "metadata": {},
   "outputs": [
    {
     "data": {
      "text/html": [
       "<div>\n",
       "<style scoped>\n",
       "    .dataframe tbody tr th:only-of-type {\n",
       "        vertical-align: middle;\n",
       "    }\n",
       "\n",
       "    .dataframe tbody tr th {\n",
       "        vertical-align: top;\n",
       "    }\n",
       "\n",
       "    .dataframe thead th {\n",
       "        text-align: right;\n",
       "    }\n",
       "</style>\n",
       "<table border=\"1\" class=\"dataframe\">\n",
       "  <thead>\n",
       "    <tr style=\"text-align: right;\">\n",
       "      <th></th>\n",
       "      <th>Open</th>\n",
       "      <th>High</th>\n",
       "      <th>Low</th>\n",
       "      <th>Close</th>\n",
       "      <th>Adj Close</th>\n",
       "      <th>Volume</th>\n",
       "    </tr>\n",
       "    <tr>\n",
       "      <th>Date</th>\n",
       "      <th></th>\n",
       "      <th></th>\n",
       "      <th></th>\n",
       "      <th></th>\n",
       "      <th></th>\n",
       "      <th></th>\n",
       "    </tr>\n",
       "  </thead>\n",
       "  <tbody>\n",
       "    <tr>\n",
       "      <th>2022-10-10</th>\n",
       "      <td>120.589996</td>\n",
       "      <td>121.040001</td>\n",
       "      <td>113.449997</td>\n",
       "      <td>114.599998</td>\n",
       "      <td>114.599998</td>\n",
       "      <td>9512600</td>\n",
       "    </tr>\n",
       "    <tr>\n",
       "      <th>2022-10-11</th>\n",
       "      <td>112.000000</td>\n",
       "      <td>112.489998</td>\n",
       "      <td>108.650002</td>\n",
       "      <td>110.029999</td>\n",
       "      <td>110.029999</td>\n",
       "      <td>10758800</td>\n",
       "    </tr>\n",
       "    <tr>\n",
       "      <th>2022-10-12</th>\n",
       "      <td>110.320000</td>\n",
       "      <td>110.800003</td>\n",
       "      <td>108.379997</td>\n",
       "      <td>108.639999</td>\n",
       "      <td>108.639999</td>\n",
       "      <td>6987900</td>\n",
       "    </tr>\n",
       "    <tr>\n",
       "      <th>2022-10-13</th>\n",
       "      <td>105.379997</td>\n",
       "      <td>115.199997</td>\n",
       "      <td>104.660004</td>\n",
       "      <td>112.860001</td>\n",
       "      <td>112.860001</td>\n",
       "      <td>10455000</td>\n",
       "    </tr>\n",
       "    <tr>\n",
       "      <th>2022-10-14</th>\n",
       "      <td>114.629997</td>\n",
       "      <td>114.989998</td>\n",
       "      <td>109.790001</td>\n",
       "      <td>109.949997</td>\n",
       "      <td>109.949997</td>\n",
       "      <td>7989800</td>\n",
       "    </tr>\n",
       "  </tbody>\n",
       "</table>\n",
       "</div>"
      ],
      "text/plain": [
       "                  Open        High         Low       Close   Adj Close  \\\n",
       "Date                                                                     \n",
       "2022-10-10  120.589996  121.040001  113.449997  114.599998  114.599998   \n",
       "2022-10-11  112.000000  112.489998  108.650002  110.029999  110.029999   \n",
       "2022-10-12  110.320000  110.800003  108.379997  108.639999  108.639999   \n",
       "2022-10-13  105.379997  115.199997  104.660004  112.860001  112.860001   \n",
       "2022-10-14  114.629997  114.989998  109.790001  109.949997  109.949997   \n",
       "\n",
       "              Volume  \n",
       "Date                  \n",
       "2022-10-10   9512600  \n",
       "2022-10-11  10758800  \n",
       "2022-10-12   6987900  \n",
       "2022-10-13  10455000  \n",
       "2022-10-14   7989800  "
      ]
     },
     "execution_count": 15,
     "metadata": {},
     "output_type": "execute_result"
    }
   ],
   "source": [
    "Stock_qualcomm.tail()"
   ]
  },
  {
   "cell_type": "code",
   "execution_count": 16,
   "metadata": {},
   "outputs": [
    {
     "data": {
      "text/plain": [
       "Open         0\n",
       "High         0\n",
       "Low          0\n",
       "Close        0\n",
       "Adj Close    0\n",
       "Volume       0\n",
       "dtype: int64"
      ]
     },
     "execution_count": 16,
     "metadata": {},
     "output_type": "execute_result"
    }
   ],
   "source": [
    "Stock_qualcomm.isnull().sum()"
   ]
  },
  {
   "cell_type": "code",
   "execution_count": 17,
   "metadata": {},
   "outputs": [
    {
     "data": {
      "text/plain": [
       "Date\n",
       "2002-01-02    False\n",
       "2002-01-03    False\n",
       "2002-01-04    False\n",
       "2002-01-07    False\n",
       "2002-01-08    False\n",
       "              ...  \n",
       "2022-10-10    False\n",
       "2022-10-11    False\n",
       "2022-10-12    False\n",
       "2022-10-13    False\n",
       "2022-10-14    False\n",
       "Length: 5234, dtype: bool"
      ]
     },
     "execution_count": 17,
     "metadata": {},
     "output_type": "execute_result"
    }
   ],
   "source": [
    "Stock_qualcomm.isnull().any(axis=1)"
   ]
  },
  {
   "cell_type": "markdown",
   "metadata": {},
   "source": [
    "### Visualizing Data\n",
    "Now, let us have a look at how the closing values of data look like.\n",
    "\n",
    "Below defined is the plotter function which extracts the close values, reshapes the data into columnar data, and uses that to plots the data."
   ]
  },
  {
   "cell_type": "code",
   "execution_count": 18,
   "metadata": {},
   "outputs": [
    {
     "data": {
      "image/png": "[encoded data removed]",
      "text/plain": [
       "<Figure size 640x480 with 1 Axes>"
      ]
     },
     "metadata": {},
     "output_type": "display_data"
    }
   ],
   "source": [
    "def plotter():\n",
    "    global closing_stock\n",
    "    plt.subplot(211)\n",
    "    company_close = Stock_qualcomm\n",
    "    company_close = company_close.Close.values.astype('float32')\n",
    "    company_close = company_close.reshape(-1, 1)\n",
    "    closing_stock = company_close\n",
    "    plt.xlabel('Time')\n",
    "    plt.ylabel(\" close stock prices\")\n",
    "    plt.title('prices Vs Time')\n",
    "    plt.grid(True)\n",
    "    plt.plot(company_close , 'b')\n",
    "    plt.show()\n",
    "\n",
    "plotter()"
   ]
  },
  {
   "cell_type": "markdown",
   "metadata": {},
   "source": [
    "### Feature Scaling\n",
    "Let us have a look at the minimum and maximum values of the closing prices using min() and max() respectively.\n",
    "\n",
    "Let us then use MinMaxScaler, a module from sklearn library to scale the values into the range of 0 and 1."
   ]
  },
  {
   "cell_type": "code",
   "execution_count": 19,
   "metadata": {},
   "outputs": [
    {
     "name": "stdout",
     "output_type": "stream",
     "text": [
      "11.875\n",
      "189.28\n",
      "0.0\n",
      "1.0\n"
     ]
    }
   ],
   "source": [
    "print(closing_stock.min())\n",
    "print(closing_stock.max())\n",
    "\n",
    "from sklearn.preprocessing import MinMaxScaler\n",
    "\n",
    "scaler = MinMaxScaler(feature_range=(0, 1))\n",
    "\n",
    "stocks = scaler.fit_transform(closing_stock)\n",
    "\n",
    "print(stocks.min())\n",
    "print(stocks.max())"
   ]
  },
  {
   "cell_type": "markdown",
   "metadata": {},
   "source": [
    "### Splitting the Data\n",
    "Let us split the stocks into 3 parts, for training, validation, and testing purposes.\n",
    "\n",
    "Let us have 80% of the data in the train set, 10% in the validation set and the remaining 10% in the test set."
   ]
  },
  {
   "cell_type": "code",
   "execution_count": 20,
   "metadata": {},
   "outputs": [
    {
     "name": "stdout",
     "output_type": "stream",
     "text": [
      "Train samples: 4187 Validation Samples: 523 Test Samples: 524\n",
      "(4187, 1)\n",
      "(523, 1)\n",
      "(524, 1)\n"
     ]
    }
   ],
   "source": [
    "n_train = int(len(closing_stock) * 0.80)\n",
    "n_remaining = len(closing_stock) - n_train\n",
    "\n",
    "n_val = int(n_remaining*0.50)\n",
    "n_test = n_remaining - n_val \n",
    "print(\"Train samples:\",n_train, \"Validation Samples:\",n_val,\"Test Samples:\", n_test)\n",
    "\n",
    "train_data = closing_stock[0:n_train]\n",
    "print(train_data.shape)\n",
    "\n",
    "val_data = closing_stock[n_train:n_train+n_val]\n",
    "print(val_data.shape)\n",
    "\n",
    "test_data = closing_stock[n_train+n_val:]\n",
    "print(test_data.shape)\n",
    "\n",
    "from sklearn.preprocessing import MinMaxScaler\n",
    "\n",
    "scaler = MinMaxScaler(feature_range=(0, 1))\n",
    "\n",
    "train = scaler.fit_transform(train_data)\n",
    "val = scaler.transform(val_data)\n",
    "test = scaler.transform(test_data)"
   ]
  },
  {
   "cell_type": "markdown",
   "metadata": {},
   "source": [
    "### Creating the Dataset\n",
    "In this exercise, we are going to use GRU, which is one of the quite useful deep learning algorithms to deal with time-series data.\n",
    "\n",
    "It expects the input data to be three-dimensional. The first dimension indicates the batch size, the second dimension is the timestamps and the third dimension is the number of features.\n",
    "\n",
    "Let us feed 2 values to predict the next value. To create the data set, let us define the create_dataset function.\n",
    "\n",
    "In the function, we will be traversing till the last third row of the dataset, combine every two consecutive values as one input, and put the third value as the value to be predicted(ground truth of prediction)."
   ]
  },
  {
   "cell_type": "code",
   "execution_count": 21,
   "metadata": {},
   "outputs": [],
   "source": [
    "def create_dataset(data , n_features):\n",
    "    dataX, dataY = [], []\n",
    "    for i in range(len(data)-n_features-1):\n",
    "        a = data[i:(i+n_features), 0]\n",
    "        dataX.append(a)\n",
    "        dataY.append(data[i + n_features, 0])\n",
    "    return np.array(dataX), np.array(dataY)\n",
    "n_features = 2"
   ]
  },
  {
   "cell_type": "code",
   "execution_count": 22,
   "metadata": {},
   "outputs": [
    {
     "name": "stdout",
     "output_type": "stream",
     "text": [
      "(4184, 2) (4184,) (520, 2) (520,) (521, 2) (521,)\n"
     ]
    }
   ],
   "source": [
    "trainX, trainY = create_dataset(train, n_features)\n",
    "valX, valY = create_dataset(val, n_features)\n",
    "testX, testY = create_dataset(test, n_features)\n",
    "\n",
    "print(trainX.shape , trainY.shape , valX.shape , valY.shape, testX.shape , testY.shape)"
   ]
  },
  {
   "cell_type": "code",
   "execution_count": 23,
   "metadata": {},
   "outputs": [
    {
     "name": "stdout",
     "output_type": "stream",
     "text": [
      "(4184, 1, 2) (4184,) (520, 1, 2) (520,) (521, 1, 2) (521,)\n"
     ]
    }
   ],
   "source": [
    "trainX = trainX.reshape(trainX.shape[0] , 1 ,trainX.shape[1])\n",
    "valX = valX.reshape(valX.shape[0] , 1 ,valX.shape[1])\n",
    "testX = testX.reshape(testX.shape[0] , 1 ,testX.shape[1])\n",
    "\n",
    "print(trainX.shape , trainY.shape , valX.shape , valY.shape, testX.shape , testY.shape)"
   ]
  },
  {
   "cell_type": "markdown",
   "metadata": {},
   "source": [
    "### Building the Model\n",
    "Finally, we have reached the modeling part.\n",
    "\n",
    "As discussed previously, we shall use a GRU based model.\n",
    "\n",
    "Firstly, let us import the necessary TensorFlow and Scikit-Learn libraries.\n",
    "\n",
    "Next, we shall build the model by adding layers, compiling it, and then fitting the model on the train data.\n",
    "\n",
    "A bit about the model we are going to build:\n",
    "\n",
    "The model we are going to use is a stacked GRU.\n",
    "So the output of one GRU layer should act as the input to the next GRU layer stacked above the former one and so on.\n",
    "We have already discussed that the GRU/LSTM layers in Keras expect the input to be in three-dimensional.\n",
    "Thus, we have to make sure that the output from a previous layer is formatted in a three-dimensional way so as to provide it as input to the next layer.\n",
    "This job could be achieved by setting return_sequences=True in the GRU layers whose output would potentially act as the input to the next GRU layer."
   ]
  },
  {
   "cell_type": "code",
   "execution_count": 24,
   "metadata": {},
   "outputs": [],
   "source": [
    "import tensorflow as tf\n",
    "tf.random.set_seed(42)\n",
    "from tensorflow import keras\n",
    "from tensorflow.keras import layers\n",
    "from tensorflow.keras.optimizers import Adam"
   ]
  },
  {
   "cell_type": "code",
   "execution_count": 25,
   "metadata": {},
   "outputs": [],
   "source": [
    "model=keras.Sequential()"
   ]
  },
  {
   "cell_type": "code",
   "execution_count": 26,
   "metadata": {},
   "outputs": [],
   "source": [
    "# First GRU layer\n",
    "model.add(layers.GRU(units=100, return_sequences=True, input_shape=(1,n_features), activation='tanh'))\n",
    "model.add(layers.Dropout(0.2))\n",
    "\n",
    "# Second GRU layer\n",
    "model.add(layers.GRU(units=150, return_sequences=True, input_shape=(1,n_features), activation='tanh'))\n",
    "model.add(layers.Dropout(0.2))\n",
    "\n",
    "# Third GRU layer\n",
    "model.add(layers.GRU(units=100, activation='tanh'))\n",
    "model.add(layers.Dropout(0.2))\n",
    "\n",
    "# The output layer\n",
    "model.add(layers.Dense(units=1, kernel_initializer='he_uniform', activation='linear'))"
   ]
  },
  {
   "cell_type": "markdown",
   "metadata": {},
   "source": [
    "Observe the argument return_sequences, which is set to be True only for those layers which have a GRU layer after them(that is, the first and second GRU layers), unlike the third layer. This is so because the output of the third layer would be fed to a Dense layer but not a GRU/LSTM layer."
   ]
  },
  {
   "cell_type": "code",
   "execution_count": 27,
   "metadata": {},
   "outputs": [],
   "source": [
    "model.compile(loss='mean_squared_error', optimizer=Adam(learning_rate = 0.0005) , metrics = ['mean_squared_error'])"
   ]
  },
  {
   "cell_type": "markdown",
   "metadata": {},
   "source": [
    "Let us now see the summary of the model architecture."
   ]
  },
  {
   "cell_type": "code",
   "execution_count": 28,
   "metadata": {},
   "outputs": [
    {
     "name": "stdout",
     "output_type": "stream",
     "text": [
      "Model: \"sequential\"\n",
      "_________________________________________________________________\n",
      " Layer (type)                Output Shape              Param #   \n",
      "=================================================================\n",
      " gru (GRU)                   (None, 1, 100)            31200     \n",
      "                                                                 \n",
      " dropout (Dropout)           (None, 1, 100)            0         \n",
      "                                                                 \n",
      " gru_1 (GRU)                 (None, 1, 150)            113400    \n",
      "                                                                 \n",
      " dropout_1 (Dropout)         (None, 1, 150)            0         \n",
      "                                                                 \n",
      " gru_2 (GRU)                 (None, 100)               75600     \n",
      "                                                                 \n",
      " dropout_2 (Dropout)         (None, 100)               0         \n",
      "                                                                 \n",
      " dense (Dense)               (None, 1)                 101       \n",
      "                                                                 \n",
      "=================================================================\n",
      "Total params: 220,301\n",
      "Trainable params: 220,301\n",
      "Non-trainable params: 0\n",
      "_________________________________________________________________\n",
      "None\n"
     ]
    }
   ],
   "source": [
    "print(model.summary())"
   ]
  },
  {
   "cell_type": "code",
   "execution_count": 29,
   "metadata": {
    "scrolled": false
   },
   "outputs": [
    {
     "name": "stdout",
     "output_type": "stream",
     "text": [
      "Epoch 1/100\n",
      "33/33 [==============================] - 4s 29ms/step - loss: 0.1124 - mean_squared_error: 0.1124 - val_loss: 0.0079 - val_mean_squared_error: 0.0079\n",
      "Epoch 2/100\n",
      "33/33 [==============================] - 0s 6ms/step - loss: 0.0129 - mean_squared_error: 0.0129 - val_loss: 0.0110 - val_mean_squared_error: 0.0110\n",
      "Epoch 3/100\n",
      "33/33 [==============================] - 0s 6ms/step - loss: 0.0061 - mean_squared_error: 0.0061 - val_loss: 0.0037 - val_mean_squared_error: 0.0037\n",
      "Epoch 4/100\n",
      "33/33 [==============================] - 0s 6ms/step - loss: 0.0034 - mean_squared_error: 0.0034 - val_loss: 0.0011 - val_mean_squared_error: 0.0011\n",
      "Epoch 5/100\n",
      "33/33 [==============================] - 0s 6ms/step - loss: 0.0031 - mean_squared_error: 0.0031 - val_loss: 0.0012 - val_mean_squared_error: 0.0012\n",
      "Epoch 6/100\n",
      "33/33 [==============================] - 0s 6ms/step - loss: 0.0030 - mean_squared_error: 0.0030 - val_loss: 0.0011 - val_mean_squared_error: 0.0011\n",
      "Epoch 7/100\n",
      "33/33 [==============================] - 0s 6ms/step - loss: 0.0029 - mean_squared_error: 0.0029 - val_loss: 0.0011 - val_mean_squared_error: 0.0011\n",
      "Epoch 8/100\n",
      "33/33 [==============================] - 0s 6ms/step - loss: 0.0028 - mean_squared_error: 0.0028 - val_loss: 0.0011 - val_mean_squared_error: 0.0011\n",
      "Epoch 9/100\n",
      "33/33 [==============================] - 0s 6ms/step - loss: 0.0026 - mean_squared_error: 0.0026 - val_loss: 0.0010 - val_mean_squared_error: 0.0010\n",
      "Epoch 10/100\n",
      "33/33 [==============================] - 0s 6ms/step - loss: 0.0026 - mean_squared_error: 0.0026 - val_loss: 0.0011 - val_mean_squared_error: 0.0011\n",
      "Epoch 11/100\n",
      "33/33 [==============================] - 0s 6ms/step - loss: 0.0025 - mean_squared_error: 0.0025 - val_loss: 0.0010 - val_mean_squared_error: 0.0010\n",
      "Epoch 12/100\n",
      "33/33 [==============================] - 0s 6ms/step - loss: 0.0023 - mean_squared_error: 0.0023 - val_loss: 0.0011 - val_mean_squared_error: 0.0011\n",
      "Epoch 13/100\n",
      "33/33 [==============================] - 0s 6ms/step - loss: 0.0023 - mean_squared_error: 0.0023 - val_loss: 0.0011 - val_mean_squared_error: 0.0011\n",
      "Epoch 14/100\n",
      "33/33 [==============================] - 0s 6ms/step - loss: 0.0023 - mean_squared_error: 0.0023 - val_loss: 0.0010 - val_mean_squared_error: 0.0010\n",
      "Epoch 15/100\n",
      "33/33 [==============================] - 0s 6ms/step - loss: 0.0021 - mean_squared_error: 0.0021 - val_loss: 0.0013 - val_mean_squared_error: 0.0013\n",
      "Epoch 16/100\n",
      "33/33 [==============================] - 0s 6ms/step - loss: 0.0020 - mean_squared_error: 0.0020 - val_loss: 0.0012 - val_mean_squared_error: 0.0012\n",
      "Epoch 17/100\n",
      "33/33 [==============================] - 0s 6ms/step - loss: 0.0020 - mean_squared_error: 0.0020 - val_loss: 0.0011 - val_mean_squared_error: 0.0011\n",
      "Epoch 18/100\n",
      "33/33 [==============================] - 0s 6ms/step - loss: 0.0020 - mean_squared_error: 0.0020 - val_loss: 0.0016 - val_mean_squared_error: 0.0016\n",
      "Epoch 19/100\n",
      "33/33 [==============================] - 0s 6ms/step - loss: 0.0019 - mean_squared_error: 0.0019 - val_loss: 0.0012 - val_mean_squared_error: 0.0012\n",
      "Epoch 20/100\n",
      "33/33 [==============================] - 0s 6ms/step - loss: 0.0018 - mean_squared_error: 0.0018 - val_loss: 0.0011 - val_mean_squared_error: 0.0011\n",
      "Epoch 21/100\n",
      "33/33 [==============================] - 0s 6ms/step - loss: 0.0018 - mean_squared_error: 0.0018 - val_loss: 0.0015 - val_mean_squared_error: 0.0015\n",
      "Epoch 22/100\n",
      "33/33 [==============================] - 0s 6ms/step - loss: 0.0017 - mean_squared_error: 0.0017 - val_loss: 0.0016 - val_mean_squared_error: 0.0016\n",
      "Epoch 23/100\n",
      "33/33 [==============================] - 0s 7ms/step - loss: 0.0017 - mean_squared_error: 0.0017 - val_loss: 0.0013 - val_mean_squared_error: 0.0013\n",
      "Epoch 24/100\n",
      "33/33 [==============================] - 0s 7ms/step - loss: 0.0017 - mean_squared_error: 0.0017 - val_loss: 0.0016 - val_mean_squared_error: 0.0016\n",
      "Epoch 25/100\n",
      "33/33 [==============================] - 0s 6ms/step - loss: 0.0017 - mean_squared_error: 0.0017 - val_loss: 0.0011 - val_mean_squared_error: 0.0011\n",
      "Epoch 26/100\n",
      "33/33 [==============================] - 0s 7ms/step - loss: 0.0016 - mean_squared_error: 0.0016 - val_loss: 0.0013 - val_mean_squared_error: 0.0013\n",
      "Epoch 27/100\n",
      "33/33 [==============================] - 0s 7ms/step - loss: 0.0017 - mean_squared_error: 0.0017 - val_loss: 0.0017 - val_mean_squared_error: 0.0017\n",
      "Epoch 28/100\n",
      "33/33 [==============================] - 0s 7ms/step - loss: 0.0016 - mean_squared_error: 0.0016 - val_loss: 0.0013 - val_mean_squared_error: 0.0013\n",
      "Epoch 29/100\n",
      "33/33 [==============================] - 0s 7ms/step - loss: 0.0016 - mean_squared_error: 0.0016 - val_loss: 0.0013 - val_mean_squared_error: 0.0013\n",
      "Epoch 30/100\n",
      "33/33 [==============================] - 0s 6ms/step - loss: 0.0016 - mean_squared_error: 0.0016 - val_loss: 0.0014 - val_mean_squared_error: 0.0014\n",
      "Epoch 31/100\n",
      "33/33 [==============================] - 0s 6ms/step - loss: 0.0015 - mean_squared_error: 0.0015 - val_loss: 0.0014 - val_mean_squared_error: 0.0014\n",
      "Epoch 32/100\n",
      "33/33 [==============================] - 0s 6ms/step - loss: 0.0015 - mean_squared_error: 0.0015 - val_loss: 0.0018 - val_mean_squared_error: 0.0018\n",
      "Epoch 33/100\n",
      "33/33 [==============================] - 0s 6ms/step - loss: 0.0014 - mean_squared_error: 0.0014 - val_loss: 0.0014 - val_mean_squared_error: 0.0014\n",
      "Epoch 34/100\n",
      "33/33 [==============================] - 0s 6ms/step - loss: 0.0014 - mean_squared_error: 0.0014 - val_loss: 0.0013 - val_mean_squared_error: 0.0013\n",
      "Epoch 35/100\n",
      "33/33 [==============================] - 0s 7ms/step - loss: 0.0014 - mean_squared_error: 0.0014 - val_loss: 0.0013 - val_mean_squared_error: 0.0013\n",
      "Epoch 36/100\n",
      "33/33 [==============================] - 0s 6ms/step - loss: 0.0013 - mean_squared_error: 0.0013 - val_loss: 0.0014 - val_mean_squared_error: 0.0014\n",
      "Epoch 37/100\n",
      "33/33 [==============================] - 0s 7ms/step - loss: 0.0014 - mean_squared_error: 0.0014 - val_loss: 0.0014 - val_mean_squared_error: 0.0014\n",
      "Epoch 38/100\n",
      "33/33 [==============================] - 0s 7ms/step - loss: 0.0014 - mean_squared_error: 0.0014 - val_loss: 0.0012 - val_mean_squared_error: 0.0012\n",
      "Epoch 39/100\n",
      "33/33 [==============================] - 0s 7ms/step - loss: 0.0015 - mean_squared_error: 0.0015 - val_loss: 0.0019 - val_mean_squared_error: 0.0019\n",
      "Epoch 40/100\n",
      "33/33 [==============================] - 0s 7ms/step - loss: 0.0013 - mean_squared_error: 0.0013 - val_loss: 0.0015 - val_mean_squared_error: 0.0015\n",
      "Epoch 41/100\n",
      "33/33 [==============================] - 0s 6ms/step - loss: 0.0013 - mean_squared_error: 0.0013 - val_loss: 0.0012 - val_mean_squared_error: 0.0012\n",
      "Epoch 42/100\n",
      "33/33 [==============================] - 0s 7ms/step - loss: 0.0013 - mean_squared_error: 0.0013 - val_loss: 0.0013 - val_mean_squared_error: 0.0013\n",
      "Epoch 43/100\n",
      "33/33 [==============================] - 0s 7ms/step - loss: 0.0013 - mean_squared_error: 0.0013 - val_loss: 0.0013 - val_mean_squared_error: 0.0013\n",
      "Epoch 44/100\n",
      "33/33 [==============================] - 0s 6ms/step - loss: 0.0014 - mean_squared_error: 0.0014 - val_loss: 0.0015 - val_mean_squared_error: 0.0015\n",
      "Epoch 45/100\n",
      "33/33 [==============================] - 0s 6ms/step - loss: 0.0013 - mean_squared_error: 0.0013 - val_loss: 0.0012 - val_mean_squared_error: 0.0012\n",
      "Epoch 46/100\n",
      "33/33 [==============================] - 0s 6ms/step - loss: 0.0012 - mean_squared_error: 0.0012 - val_loss: 0.0012 - val_mean_squared_error: 0.0012\n",
      "Epoch 47/100\n",
      "33/33 [==============================] - 0s 6ms/step - loss: 0.0013 - mean_squared_error: 0.0013 - val_loss: 0.0013 - val_mean_squared_error: 0.0013\n",
      "Epoch 48/100\n",
      "33/33 [==============================] - 0s 6ms/step - loss: 0.0013 - mean_squared_error: 0.0013 - val_loss: 0.0011 - val_mean_squared_error: 0.0011\n",
      "Epoch 49/100\n",
      "33/33 [==============================] - 0s 6ms/step - loss: 0.0012 - mean_squared_error: 0.0012 - val_loss: 0.0017 - val_mean_squared_error: 0.0017\n",
      "Epoch 50/100\n",
      "33/33 [==============================] - 0s 7ms/step - loss: 0.0013 - mean_squared_error: 0.0013 - val_loss: 0.0013 - val_mean_squared_error: 0.0013\n",
      "Epoch 51/100\n"
     ]
    },
    {
     "name": "stdout",
     "output_type": "stream",
     "text": [
      "33/33 [==============================] - 0s 7ms/step - loss: 0.0012 - mean_squared_error: 0.0012 - val_loss: 0.0016 - val_mean_squared_error: 0.0016\n",
      "Epoch 52/100\n",
      "33/33 [==============================] - 0s 6ms/step - loss: 0.0013 - mean_squared_error: 0.0013 - val_loss: 0.0011 - val_mean_squared_error: 0.0011\n",
      "Epoch 53/100\n",
      "33/33 [==============================] - 0s 6ms/step - loss: 0.0012 - mean_squared_error: 0.0012 - val_loss: 0.0016 - val_mean_squared_error: 0.0016\n",
      "Epoch 54/100\n",
      "33/33 [==============================] - 0s 6ms/step - loss: 0.0012 - mean_squared_error: 0.0012 - val_loss: 0.0011 - val_mean_squared_error: 0.0011\n",
      "Epoch 55/100\n",
      "33/33 [==============================] - 0s 6ms/step - loss: 0.0012 - mean_squared_error: 0.0012 - val_loss: 0.0014 - val_mean_squared_error: 0.0014\n",
      "Epoch 56/100\n",
      "33/33 [==============================] - 0s 6ms/step - loss: 0.0012 - mean_squared_error: 0.0012 - val_loss: 0.0012 - val_mean_squared_error: 0.0012\n",
      "Epoch 57/100\n",
      "33/33 [==============================] - 0s 7ms/step - loss: 0.0012 - mean_squared_error: 0.0012 - val_loss: 0.0014 - val_mean_squared_error: 0.0014\n",
      "Epoch 58/100\n",
      "33/33 [==============================] - 0s 6ms/step - loss: 0.0012 - mean_squared_error: 0.0012 - val_loss: 0.0011 - val_mean_squared_error: 0.0011\n",
      "Epoch 59/100\n",
      "33/33 [==============================] - 0s 6ms/step - loss: 0.0011 - mean_squared_error: 0.0011 - val_loss: 0.0011 - val_mean_squared_error: 0.0011\n",
      "Epoch 60/100\n",
      "33/33 [==============================] - 0s 6ms/step - loss: 0.0012 - mean_squared_error: 0.0012 - val_loss: 0.0012 - val_mean_squared_error: 0.0012\n",
      "Epoch 61/100\n",
      "33/33 [==============================] - 0s 6ms/step - loss: 0.0012 - mean_squared_error: 0.0012 - val_loss: 0.0014 - val_mean_squared_error: 0.0014\n",
      "Epoch 62/100\n",
      "33/33 [==============================] - 0s 6ms/step - loss: 0.0012 - mean_squared_error: 0.0012 - val_loss: 0.0011 - val_mean_squared_error: 0.0011\n",
      "Epoch 63/100\n",
      "33/33 [==============================] - 0s 6ms/step - loss: 0.0012 - mean_squared_error: 0.0012 - val_loss: 0.0014 - val_mean_squared_error: 0.0014\n",
      "Epoch 64/100\n",
      "33/33 [==============================] - 0s 7ms/step - loss: 0.0012 - mean_squared_error: 0.0012 - val_loss: 0.0013 - val_mean_squared_error: 0.0013\n",
      "Epoch 65/100\n",
      "33/33 [==============================] - 0s 6ms/step - loss: 0.0011 - mean_squared_error: 0.0011 - val_loss: 0.0012 - val_mean_squared_error: 0.0012\n",
      "Epoch 66/100\n",
      "33/33 [==============================] - 0s 6ms/step - loss: 0.0011 - mean_squared_error: 0.0011 - val_loss: 0.0010 - val_mean_squared_error: 0.0010\n",
      "Epoch 67/100\n",
      "33/33 [==============================] - 0s 6ms/step - loss: 0.0011 - mean_squared_error: 0.0011 - val_loss: 0.0011 - val_mean_squared_error: 0.0011\n",
      "Epoch 68/100\n",
      "33/33 [==============================] - 0s 7ms/step - loss: 0.0012 - mean_squared_error: 0.0012 - val_loss: 0.0012 - val_mean_squared_error: 0.0012\n",
      "Epoch 69/100\n",
      "33/33 [==============================] - 0s 7ms/step - loss: 0.0011 - mean_squared_error: 0.0011 - val_loss: 0.0010 - val_mean_squared_error: 0.0010\n",
      "Epoch 70/100\n",
      "33/33 [==============================] - 0s 7ms/step - loss: 0.0011 - mean_squared_error: 0.0011 - val_loss: 0.0011 - val_mean_squared_error: 0.0011\n",
      "Epoch 71/100\n",
      "33/33 [==============================] - 0s 6ms/step - loss: 0.0012 - mean_squared_error: 0.0012 - val_loss: 0.0010 - val_mean_squared_error: 0.0010\n",
      "Epoch 72/100\n",
      "33/33 [==============================] - 0s 7ms/step - loss: 0.0011 - mean_squared_error: 0.0011 - val_loss: 0.0012 - val_mean_squared_error: 0.0012\n",
      "Epoch 73/100\n",
      "33/33 [==============================] - 0s 7ms/step - loss: 0.0011 - mean_squared_error: 0.0011 - val_loss: 0.0013 - val_mean_squared_error: 0.0013\n",
      "Epoch 74/100\n",
      "33/33 [==============================] - 0s 9ms/step - loss: 0.0012 - mean_squared_error: 0.0012 - val_loss: 0.0014 - val_mean_squared_error: 0.0014\n",
      "Epoch 75/100\n",
      "33/33 [==============================] - 0s 7ms/step - loss: 0.0011 - mean_squared_error: 0.0011 - val_loss: 0.0012 - val_mean_squared_error: 0.0012\n",
      "Epoch 76/100\n",
      "33/33 [==============================] - 0s 7ms/step - loss: 0.0011 - mean_squared_error: 0.0011 - val_loss: 0.0012 - val_mean_squared_error: 0.0012\n",
      "Epoch 77/100\n",
      "33/33 [==============================] - 0s 7ms/step - loss: 0.0011 - mean_squared_error: 0.0011 - val_loss: 0.0011 - val_mean_squared_error: 0.0011\n",
      "Epoch 78/100\n",
      "33/33 [==============================] - 0s 6ms/step - loss: 0.0011 - mean_squared_error: 0.0011 - val_loss: 0.0011 - val_mean_squared_error: 0.0011\n",
      "Epoch 79/100\n",
      "33/33 [==============================] - 0s 7ms/step - loss: 0.0011 - mean_squared_error: 0.0011 - val_loss: 0.0010 - val_mean_squared_error: 0.0010\n",
      "Epoch 80/100\n",
      "33/33 [==============================] - 0s 6ms/step - loss: 0.0010 - mean_squared_error: 0.0010 - val_loss: 0.0013 - val_mean_squared_error: 0.0013\n",
      "Epoch 81/100\n",
      "33/33 [==============================] - 0s 7ms/step - loss: 0.0010 - mean_squared_error: 0.0010 - val_loss: 0.0011 - val_mean_squared_error: 0.0011\n",
      "Epoch 82/100\n",
      "33/33 [==============================] - 0s 6ms/step - loss: 0.0011 - mean_squared_error: 0.0011 - val_loss: 0.0012 - val_mean_squared_error: 0.0012\n",
      "Epoch 83/100\n",
      "33/33 [==============================] - 0s 6ms/step - loss: 0.0011 - mean_squared_error: 0.0011 - val_loss: 0.0011 - val_mean_squared_error: 0.0011\n",
      "Epoch 84/100\n",
      "33/33 [==============================] - 0s 6ms/step - loss: 0.0011 - mean_squared_error: 0.0011 - val_loss: 0.0012 - val_mean_squared_error: 0.0012\n",
      "Epoch 85/100\n",
      "33/33 [==============================] - 0s 6ms/step - loss: 0.0011 - mean_squared_error: 0.0011 - val_loss: 0.0012 - val_mean_squared_error: 0.0012\n",
      "Epoch 86/100\n",
      "33/33 [==============================] - 0s 6ms/step - loss: 0.0011 - mean_squared_error: 0.0011 - val_loss: 9.9076e-04 - val_mean_squared_error: 9.9076e-04\n",
      "Epoch 87/100\n",
      "33/33 [==============================] - 0s 6ms/step - loss: 0.0011 - mean_squared_error: 0.0011 - val_loss: 0.0016 - val_mean_squared_error: 0.0016\n",
      "Epoch 88/100\n",
      "33/33 [==============================] - 0s 6ms/step - loss: 0.0011 - mean_squared_error: 0.0011 - val_loss: 0.0010 - val_mean_squared_error: 0.0010\n",
      "Epoch 89/100\n",
      "33/33 [==============================] - 0s 6ms/step - loss: 9.9775e-04 - mean_squared_error: 9.9775e-04 - val_loss: 0.0010 - val_mean_squared_error: 0.0010\n",
      "Epoch 90/100\n",
      "33/33 [==============================] - 0s 7ms/step - loss: 0.0011 - mean_squared_error: 0.0011 - val_loss: 0.0013 - val_mean_squared_error: 0.0013\n",
      "Epoch 91/100\n",
      "33/33 [==============================] - 0s 6ms/step - loss: 0.0011 - mean_squared_error: 0.0011 - val_loss: 0.0010 - val_mean_squared_error: 0.0010\n",
      "Epoch 92/100\n",
      "33/33 [==============================] - 0s 6ms/step - loss: 0.0011 - mean_squared_error: 0.0011 - val_loss: 0.0010 - val_mean_squared_error: 0.0010\n",
      "Epoch 93/100\n",
      "33/33 [==============================] - 0s 6ms/step - loss: 0.0010 - mean_squared_error: 0.0010 - val_loss: 0.0013 - val_mean_squared_error: 0.0013\n",
      "Epoch 94/100\n",
      "33/33 [==============================] - 0s 6ms/step - loss: 0.0010 - mean_squared_error: 0.0010 - val_loss: 0.0012 - val_mean_squared_error: 0.0012\n",
      "Epoch 95/100\n",
      "33/33 [==============================] - 0s 6ms/step - loss: 0.0011 - mean_squared_error: 0.0011 - val_loss: 0.0011 - val_mean_squared_error: 0.0011\n",
      "Epoch 96/100\n",
      "33/33 [==============================] - 0s 7ms/step - loss: 0.0010 - mean_squared_error: 0.0010 - val_loss: 0.0012 - val_mean_squared_error: 0.0012\n",
      "Epoch 97/100\n",
      "33/33 [==============================] - 0s 6ms/step - loss: 0.0010 - mean_squared_error: 0.0010 - val_loss: 9.9716e-04 - val_mean_squared_error: 9.9716e-04\n",
      "Epoch 98/100\n",
      "33/33 [==============================] - 0s 6ms/step - loss: 9.9591e-04 - mean_squared_error: 9.9591e-04 - val_loss: 0.0010 - val_mean_squared_error: 0.0010\n",
      "Epoch 99/100\n",
      "33/33 [==============================] - 0s 7ms/step - loss: 9.9544e-04 - mean_squared_error: 9.9544e-04 - val_loss: 0.0010 - val_mean_squared_error: 0.0010\n",
      "Epoch 100/100\n",
      "33/33 [==============================] - 0s 6ms/step - loss: 9.6638e-04 - mean_squared_error: 9.6638e-04 - val_loss: 0.0014 - val_mean_squared_error: 0.0014\n"
     ]
    }
   ],
   "source": [
    "history = model.fit(trainX,trainY,epochs=100,batch_size=128, verbose=1, validation_data = (valX,valY))"
   ]
  },
  {
   "cell_type": "markdown",
   "metadata": {},
   "source": [
    "### Evaluating the Model Performance\n",
    "Let us now compute the model score on train data, validation data, and test data.\n",
    "\n",
    "We shall use the model.evaluate() and print the Mean Squared Error and Root Mean Squared Error for each of the train, validation and test sets."
   ]
  },
  {
   "cell_type": "code",
   "execution_count": 30,
   "metadata": {},
   "outputs": [
    {
     "name": "stdout",
     "output_type": "stream",
     "text": [
      "Train Score:\n",
      "MSE: 0.00026 , RMSE: 0.02\n",
      "Validation Score:\n",
      "MSE: 0.00142 , RMSE: 0.04\n",
      "Test Score:\n",
      "MSE: 0.02870 , RMSE: 0.17\n"
     ]
    }
   ],
   "source": [
    "import math\n",
    "\n",
    "def model_score(model, X_train, y_train, X_val, y_val , X_test, y_test):\n",
    "    print('Train Score:')\n",
    "    train_score = model.evaluate(X_train, y_train, verbose=0)\n",
    "    print(\"MSE: {:.5f} , RMSE: {:.2f}\".format(train_score[0], math.sqrt(train_score[0])))\n",
    "\n",
    "    print('Validation Score:')\n",
    "    val_score = model.evaluate(X_val, y_val, verbose=0)\n",
    "    print(\"MSE: {:.5f} , RMSE: {:.2f}\".format (val_score[0], math.sqrt(val_score[0])))\n",
    "\n",
    "    print('Test Score:')\n",
    "    test_score = model.evaluate(X_test, y_test, verbose=0)\n",
    "    print(\"MSE: {:.5f} , RMSE: {:.2f}\".format (test_score[0], math.sqrt(test_score[0])))\n",
    "\n",
    "\n",
    "model_score(model, trainX, trainY ,valX, valY , testX, testY)"
   ]
  },
  {
   "cell_type": "markdown",
   "metadata": {},
   "source": [
    "### Visualizing Loss vs Epochs\n",
    "Now that we have built the model, let us visualize how the model loss varies with respect to the epoch for the train data and validation data using matplotlib.\n",
    "\n",
    "Firstly, let us have a look at the history, where all the history about various parameters like loss, mean_squared_error, and validation mean_squared_error are stored when the model was fit on train data and validated on validation data.\n",
    "\n",
    "Since we aim to plot the training loss an validation loss behavior with respect to the number of epochs, let us use those corresponding values from history.history dictionary.\n",
    "\n",
    "loss represents the training loss and val_loss indicates the validation loss.\n",
    "\n",
    "Let us plot the training loss and validation loss. We shall also set the title, ylabel, xlabel, and legend for the plot and finally show it."
   ]
  },
  {
   "cell_type": "code",
   "execution_count": 33,
   "metadata": {},
   "outputs": [
    {
     "name": "stdout",
     "output_type": "stream",
     "text": [
      "dict_keys(['loss', 'mean_squared_error', 'val_loss', 'val_mean_squared_error'])\n"
     ]
    },
    {
     "data": {
      "image/png": "[encoded data removed]",
      "text/plain": [
       "<Figure size 640x480 with 1 Axes>"
      ]
     },
     "metadata": {},
     "output_type": "display_data"
    }
   ],
   "source": [
    "print(history.history.keys())\n",
    "\n",
    "plt.plot(history.history['loss'])\n",
    "plt.plot(history.history['val_loss'])\n",
    "\n",
    "plt.title('model loss')\n",
    "plt.ylabel('loss')\n",
    "plt.xlabel('epoch')\n",
    "plt.legend(['train', 'val'], loc='upper left')\n",
    "plt.show()"
   ]
  },
  {
   "cell_type": "markdown",
   "metadata": {},
   "source": [
    "### Visualizing Predictions vs Ground Truths\n",
    "Let us now plot the predicted stock prices vs the actual ground truth values.\n",
    "\n",
    "We shall use model.predict() to get the predicted values of the test data set.\n",
    "\n",
    "Since we have scaled the actual values of the dataset, we need to inverse transform the values. So, inverse transform the predicted values using scaler.inverse_transform() and pass the pred as an argument."
   ]
  },
  {
   "cell_type": "code",
   "execution_count": 34,
   "metadata": {
    "scrolled": true
   },
   "outputs": [
    {
     "name": "stdout",
     "output_type": "stream",
     "text": [
      "17/17 [==============================] - 0s 1ms/step\n",
      "[[107.93338 ]\n",
      " [108.18853 ]\n",
      " [109.75421 ]\n",
      " [107.6841  ]\n",
      " [108.36646 ]\n",
      " [110.28604 ]\n",
      " [113.474846]\n",
      " [113.29379 ]\n",
      " [113.3446  ]\n",
      " [114.692764]]\n",
      "[[111.91999]\n",
      " [113.81999]\n",
      " [110.57   ]\n",
      " [112.19   ]\n",
      " [114.5    ]\n",
      " [118.47   ]\n",
      " [117.37999]\n",
      " [117.68   ]\n",
      " [119.52   ]\n",
      " [115.47   ]]\n"
     ]
    },
    {
     "data": {
      "image/png": "[encoded data removed]",
      "text/plain": [
       "<Figure size 640x480 with 1 Axes>"
      ]
     },
     "metadata": {},
     "output_type": "display_data"
    }
   ],
   "source": [
    "pred = model.predict(testX)\n",
    "pred = scaler.inverse_transform(pred)\n",
    "print(pred[:10])\n",
    "\n",
    "testY_actual = testY.reshape(testY.shape[0] , 1)\n",
    "testY_actual = scaler.inverse_transform(testY_actual)\n",
    "print(testY_actual[:10])\n",
    "\n",
    "plt.plot(testY_actual , 'b')\n",
    "plt.plot(pred , 'r')\n",
    "\n",
    "plt.xlabel('Time')\n",
    "plt.ylabel('Stock Prices')\n",
    "plt.title('Check the performance of the model with time')\n",
    "plt.legend(['Actual', 'Predicted'], loc='upper left')\n",
    "\n",
    "plt.grid(True)\n",
    "plt.show()"
   ]
  },
  {
   "cell_type": "code",
   "execution_count": null,
   "metadata": {},
   "outputs": [],
   "source": []
  }
 ],
 "metadata": {
  "kernelspec": {
   "display_name": "Python 3 (ipykernel)",
   "language": "python",
   "name": "python3"
  },
  "language_info": {
   "codemirror_mode": {
    "name": "ipython",
    "version": 3
   },
   "file_extension": ".py",
   "mimetype": "text/x-python",
   "name": "python",
   "nbconvert_exporter": "python",
   "pygments_lexer": "ipython3",
   "version": "3.9.13"
  },
  "toc": {
   "base_numbering": 1,
   "nav_menu": {},
   "number_sections": true,
   "sideBar": true,
   "skip_h1_title": false,
   "title_cell": "Table of Contents",
   "title_sidebar": "Contents",
   "toc_cell": false,
   "toc_position": {},
   "toc_section_display": true,
   "toc_window_display": false
  }
 },
 "nbformat": 4,
 "nbformat_minor": 2
}
